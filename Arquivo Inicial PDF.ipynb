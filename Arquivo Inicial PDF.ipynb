{
 "cells": [
  {
   "cell_type": "markdown",
   "metadata": {},
   "source": [
    "# Vamos aprender a trabalhar com PDF usando o Python\n",
    "\n",
    "- Regra geral: PDF foi feito justamente para bloquear muita coisa, então não é fácil \"brincar\" com um pdf\n",
    "- Mesmo assim, Python tem várias bibliotecas que vão nos ajudar, vamos focar em 2:\n",
    "    - PyPDF2\n",
    "    - Tabula\n",
    "- Ler e extrair informações de um PDF a gente consegue fazer.\n",
    "- Escrever e Editar, aí já é outra história\n",
    "\n",
    "### Para os nossos exemplos, vamos avaliar o Release de Resultados do 3º e 4º Trimestre de 2020 da Magazine Luiza"
   ]
  },
  {
   "cell_type": "markdown",
   "metadata": {},
   "source": [
    "#### 1º Objetivo: Queremos conseguir separar apenas o DRE do Release de Resultados (Página 14) para enviar para a Diretoria, como fazemos?\n",
    "    - Separar as páginas de um pdf"
   ]
  },
  {
   "cell_type": "code",
   "execution_count": 5,
   "metadata": {},
   "outputs": [
    {
     "name": "stdout",
     "output_type": "stream",
     "text": [
      "<PyPDF2._reader.PdfReader object at 0x000001AC8D03AFF0>\n",
      "Arquivo Pagina 1.pdf criado com sucesso.\n",
      "Arquivo Pagina 2.pdf criado com sucesso.\n",
      "Arquivo Pagina 3.pdf criado com sucesso.\n",
      "Arquivo Pagina 4.pdf criado com sucesso.\n",
      "Arquivo Pagina 5.pdf criado com sucesso.\n",
      "Arquivo Pagina 6.pdf criado com sucesso.\n",
      "Arquivo Pagina 7.pdf criado com sucesso.\n",
      "Arquivo Pagina 8.pdf criado com sucesso.\n",
      "Arquivo Pagina 9.pdf criado com sucesso.\n",
      "Arquivo Pagina 10.pdf criado com sucesso.\n",
      "Arquivo Pagina 11.pdf criado com sucesso.\n",
      "Arquivo Pagina 12.pdf criado com sucesso.\n",
      "Arquivo Pagina 13.pdf criado com sucesso.\n",
      "Arquivo Pagina 14.pdf criado com sucesso.\n",
      "Arquivo Pagina 15.pdf criado com sucesso.\n",
      "Arquivo Pagina 16.pdf criado com sucesso.\n",
      "Arquivo Pagina 17.pdf criado com sucesso.\n",
      "Arquivo Pagina 18.pdf criado com sucesso.\n",
      "Arquivo Pagina 19.pdf criado com sucesso.\n",
      "Arquivo Pagina 20.pdf criado com sucesso.\n",
      "Arquivo Pagina 21.pdf criado com sucesso.\n",
      "Arquivo Pagina 22.pdf criado com sucesso.\n",
      "Arquivo Pagina 23.pdf criado com sucesso.\n",
      "Arquivo Pagina 24.pdf criado com sucesso.\n"
     ]
    }
   ],
   "source": [
    "import PyPDF2 as pyf\n",
    "import os\n",
    "from pathlib import Path\n",
    "\n",
    "# Nome do arquivo PDF\n",
    "nome = 'MGLU_ER_3T20_POR.pdf'\n",
    "# Abre o arquivo PDF\n",
    "arquivo_pdf = pyf.PdfReader(nome)\n",
    "print(arquivo_pdf)\n",
    "\n",
    "# Itera por cada página do arquivo PDF\n",
    "for i, pagina in enumerate(arquivo_pdf.pages):\n",
    "    # Calcula o número da página (começa em 0, por isso adicionamos 1)\n",
    "    num_pagina = i + 1  \n",
    "    # Caminho de saída para o novo arquivo PDF\n",
    "    output_path = Path(f'paginas/Arquivo Pagina {num_pagina}.pdf')\n",
    "\n",
    "    # Verifica se o arquivo já existe\n",
    "    if output_path.exists():\n",
    "        # Se o arquivo existir, imprime uma mensagem e pula a criação\n",
    "        print(f'Arquivo Pagina {num_pagina}.pdf já existe. Pulando a criação.')\n",
    "    else:\n",
    "        # Se o arquivo não existir, cria um novo PDF com a página atual\n",
    "        novo_pdf = pyf.PdfWriter()\n",
    "        novo_pdf.add_page(pagina)\n",
    "        # Abre o caminho de saída em modo 'write binary' e escreve o novo PDF\n",
    "        with output_path.open(mode='wb') as arquivo:\n",
    "            novo_pdf.write(arquivo)\n",
    "        # Imprime uma mensagem de confirmação após a criação do arquivo\n",
    "        print(f'Arquivo Pagina {num_pagina}.pdf criado com sucesso.')\n",
    "\n",
    "\n"
   ]
  },
  {
   "cell_type": "code",
   "execution_count": 8,
   "metadata": {},
   "outputs": [
    {
     "name": "stdout",
     "output_type": "stream",
     "text": [
      "<PyPDF2._reader.PdfReader object at 0x000001AC8E877380>\n",
      "Arquivo Pagina 1.pdf já existe. Pulando a criação.\n",
      "Arquivo Pagina 2.pdf já existe. Pulando a criação.\n",
      "Arquivo Pagina 3.pdf já existe. Pulando a criação.\n",
      "Arquivo Pagina 4.pdf já existe. Pulando a criação.\n",
      "Arquivo Pagina 5.pdf já existe. Pulando a criação.\n",
      "Arquivo Pagina 6.pdf já existe. Pulando a criação.\n",
      "Arquivo Pagina 7.pdf já existe. Pulando a criação.\n",
      "Arquivo Pagina 8.pdf já existe. Pulando a criação.\n",
      "Arquivo Pagina 9.pdf já existe. Pulando a criação.\n",
      "Arquivo Pagina 10.pdf já existe. Pulando a criação.\n",
      "Arquivo Pagina 11.pdf já existe. Pulando a criação.\n",
      "Arquivo Pagina 12.pdf já existe. Pulando a criação.\n",
      "Arquivo Pagina 13.pdf já existe. Pulando a criação.\n",
      "Arquivo Pagina 14.pdf já existe. Pulando a criação.\n",
      "Arquivo Pagina 15.pdf já existe. Pulando a criação.\n",
      "Arquivo Pagina 16.pdf já existe. Pulando a criação.\n",
      "Arquivo Pagina 17.pdf já existe. Pulando a criação.\n",
      "Arquivo Pagina 18.pdf já existe. Pulando a criação.\n",
      "Arquivo Pagina 19.pdf já existe. Pulando a criação.\n",
      "Arquivo Pagina 20.pdf já existe. Pulando a criação.\n",
      "Arquivo Pagina 21.pdf já existe. Pulando a criação.\n",
      "Arquivo Pagina 22.pdf já existe. Pulando a criação.\n",
      "Arquivo Pagina 23.pdf já existe. Pulando a criação.\n",
      "Arquivo Pagina 24.pdf já existe. Pulando a criação.\n"
     ]
    }
   ],
   "source": [
    "import PyPDF2 as pyf\n",
    "import os\n",
    "from pathlib import Path\n",
    "\n",
    "# Nome do arquivo PDF\n",
    "nome = 'MGLU_ER_3T20_POR.pdf'\n",
    "# Abre o arquivo PDF\n",
    "arquivo_pdf = pyf.PdfReader(nome)\n",
    "print(arquivo_pdf)\n",
    "\n",
    "# Caminho da pasta de saída\n",
    "pasta_saida = Path('paginas')\n",
    "# Cria a pasta se ela não existir\n",
    "pasta_saida.mkdir(parents=True, exist_ok=True)\n",
    "\n",
    "# Itera por cada página do arquivo PDF\n",
    "for i, pagina in enumerate(arquivo_pdf.pages):\n",
    "    # Calcula o número da página (começa em 0, por isso adicionamos 1)\n",
    "    num_pagina = i + 1  \n",
    "    # Caminho de saída para o novo arquivo PDF\n",
    "    output_path = pasta_saida / f'Arquivo Pagina {num_pagina}.pdf'\n",
    "\n",
    "    # Verifica se o arquivo já existe\n",
    "    if output_path.exists():\n",
    "        # Se o arquivo existir, imprime uma mensagem e pula a criação\n",
    "        print(f'Arquivo Pagina {num_pagina}.pdf já existe. Pulando a criação.')\n",
    "    else:\n",
    "        # Se o arquivo não existir, cria um novo PDF com a página atual\n",
    "        novo_pdf = pyf.PdfWriter()\n",
    "        novo_pdf.add_page(pagina)\n",
    "        # Abre o caminho de saída em modo 'write binary' e escreve o novo PDF\n",
    "        with output_path.open(mode='wb') as arquivo:\n",
    "            novo_pdf.write(arquivo)\n",
    "        # Imprime uma mensagem de confirmação após a criação do arquivo\n",
    "        print(f'Arquivo Pagina {num_pagina}.pdf criado com sucesso.')\n"
   ]
  },
  {
   "cell_type": "markdown",
   "metadata": {},
   "source": [
    "#### 2º Objetivo: Com o Release de Resultados já separado página por página, queremos incluir apenas as Páginas de Destaque (Página 1), DRE (Página 14) e Balanço (Página 16).\n",
    "    - Juntar vários pdfs em 1"
   ]
  },
  {
   "cell_type": "code",
   "execution_count": 13,
   "metadata": {},
   "outputs": [
    {
     "name": "stdout",
     "output_type": "stream",
     "text": [
      "Consolidado.pdf já existe. Pulando a criação.\n"
     ]
    }
   ],
   "source": [
    "import PyPDF2 as pyf\n",
    "import os\n",
    "from pathlib import Path\n",
    "\n",
    "# Números das páginas que você deseja consolidar\n",
    "num_paginas = [1, 14, 16]\n",
    "\n",
    "# Nome do novo arquivo consolidado\n",
    "nome_consolidado = 'Consolidado.pdf'\n",
    "output_path = Path(nome_consolidado)\n",
    "\n",
    "# Verifica se o arquivo consolidado já existe\n",
    "if output_path.exists():\n",
    "    # Se o arquivo existir, imprime uma mensagem e não cria o arquivo novamente\n",
    "    print(f'{nome_consolidado} já existe. Pulando a criação.')\n",
    "else:\n",
    "    # Se o arquivo não existir, cria um novo arquivo PDF consolidado\n",
    "    novo_arquivo = pyf.PdfWriter()\n",
    "\n",
    "    # Adiciona as páginas especificadas ao novo arquivo PDF\n",
    "    for num in num_paginas:\n",
    "        pagina_pdf = pyf.PdfReader(f'paginas/Arquivo Pagina {num}.pdf')\n",
    "        novo_arquivo.add_page(pagina_pdf.pages[0])\n",
    "\n",
    "    # Abre o caminho de saída em modo 'write binary' e escreve o novo PDF\n",
    "    with output_path.open(mode='wb') as arquivo:\n",
    "        novo_arquivo.write(arquivo)\n",
    "    # Imprime uma mensagem de confirmação após a criação do arquivo\n",
    "    print(f'{nome_consolidado} criado com sucesso.')\n",
    "    \n",
    "\n"
   ]
  },
  {
   "cell_type": "markdown",
   "metadata": {},
   "source": [
    "### Extra: Para adicionar todas as páginas de 2 pdfs"
   ]
  },
  {
   "cell_type": "code",
   "execution_count": null,
   "metadata": {},
   "outputs": [],
   "source": [
    "import PyPDF2 as pyf\n",
    "\n",
    "# Cria um objeto PdfMerger\n",
    "pdf_mesclado = pyf.PdfMerger()\n",
    "\n",
    "# Adiciona os arquivos PDF que você deseja mesclar\n",
    "pdf_mesclado.append('MGLU_ER_3T20_POR.pdf')\n",
    "pdf_mesclado.append('MGLU_ER_4T20_POR.pdf')\n",
    "\n",
    "# Nome do arquivo consolidado\n",
    "nome_consolidado = 'Consolidado.pdf'\n",
    "output_path = Path(nome_consolidado)\n",
    "\n",
    "# Verifica se o arquivo consolidado já existe\n",
    "if output_path.exists():\n",
    "    # Se o arquivo existir, imprime uma mensagem e não cria o arquivo novamente\n",
    "    print(f'{nome_consolidado} já existe. Pulando a criação.')\n",
    "else:\n",
    "    # Se o arquivo não existir, grava o arquivo consolidado\n",
    "    with output_path.open(mode='wb') as arquivo:\n",
    "        pdf_mesclado.write(arquivo)\n",
    "    # Imprime uma mensagem de confirmação após a criação do arquivo\n",
    "    print(f'{nome_consolidado} criado com sucesso.')"
   ]
  },
  {
   "cell_type": "markdown",
   "metadata": {},
   "source": [
    "# Funcionalidades que podem ser úteis:\n",
    "\n",
    "- Inserir arquivo no meio do outro\n",
    "- Quero colocar dentro do Resultado do 4T20 os destaques do 3T20 para poder comparar os 2 dentro do mesmo relatório"
   ]
  },
  {
   "cell_type": "code",
   "execution_count": 2,
   "metadata": {},
   "outputs": [],
   "source": [
    "import PyPDF2 as pyf\n",
    "import os\n",
    "from pathlib import Path\n",
    "\n",
    "# Cria um objeto PdfMerger\n",
    "pdf_mesclado = pyf.PdfMerger()\n",
    "\n",
    "# Adiciona os arquivos PDF que você deseja mesclar\n",
    "\n",
    "pdf_mesclado.append('MGLU_ER_4T20_POR.pdf')\n",
    "pdf_mesclado.merge(1, 'paginas/Arquivo Pagina 1.pdf')\n",
    "\n",
    "with Path(f'Relatório 2 Trimestres.pdf').open(mode='wb') as arquivo:\n",
    "        pdf_mesclado.write(arquivo)\n"
   ]
  },
  {
   "cell_type": "markdown",
   "metadata": {},
   "source": [
    "- Rodar Página"
   ]
  },
  {
   "cell_type": "code",
   "execution_count": 4,
   "metadata": {},
   "outputs": [],
   "source": [
    "arquivo_pdf_original = pyf.PdfReader('MGLU_ER_3T20_POR.pdf')\n",
    "\n",
    "novo_arquivo = pyf.PdfWriter()\n",
    "\n",
    "for pagina in arquivo_pdf_original.pages:\n",
    "    pagina.rotate(90)\n",
    "    novo_arquivo.add_page(pagina)\n",
    "\n",
    "\n",
    "with Path(f'Paginas Rotacionadas.pdf').open(mode='wb') as arquivo:\n",
    "        novo_arquivo.write(arquivo)\n",
    "    "
   ]
  },
  {
   "cell_type": "markdown",
   "metadata": {},
   "source": [
    "# Trabalhando com Textos e Informações Dentro do PDF\n",
    "\n",
    "#### 1º Objetivo: Quero identificar como foram as Despesas com Vendas da MGLU\n",
    "    - Pegar texto da página e identificar onde está essa informação"
   ]
  },
  {
   "cell_type": "code",
   "execution_count": null,
   "metadata": {},
   "outputs": [],
   "source": []
  },
  {
   "cell_type": "markdown",
   "metadata": {},
   "source": [
    "#### 2º Objetivo: Quero analisar o DRE (sem ajuste - Página 5)\n",
    "    - Para ler tabelas em pdf, use o tabula (é ninja)\n",
    "    \n",
    "    - Cuidado 1: Instale o tabula-py (não instale o tabula). Se instalar o tabula errado, desinstale ele, instale o tabula-py, desinstale o tabula-py e instale novamente o tabula-py. Reinicie o kernel do Jupyter após isso\n",
    "    \n",
    "    - Cuidado 2: Tem que ter o java instalado no seu computador (depois de instalar, reinicie o computador)"
   ]
  },
  {
   "cell_type": "code",
   "execution_count": null,
   "metadata": {},
   "outputs": [],
   "source": []
  },
  {
   "cell_type": "markdown",
   "metadata": {},
   "source": [
    "#### 3º Objetivo: Quero analisar o Capital de Giro e os Investimentos (ambas as tabelas na página 12)\n",
    "    - Páginas com mais de 1 tabela"
   ]
  },
  {
   "cell_type": "code",
   "execution_count": null,
   "metadata": {},
   "outputs": [],
   "source": []
  },
  {
   "cell_type": "markdown",
   "metadata": {},
   "source": [
    "#### O que fazer quando o tabula não consegue ler alguma linha da tabela? Como o cabeçalho, no nosso caso?"
   ]
  },
  {
   "cell_type": "code",
   "execution_count": null,
   "metadata": {},
   "outputs": [],
   "source": []
  },
  {
   "cell_type": "markdown",
   "metadata": {},
   "source": [
    "# Outro método que pode ser útil algum dia: Captar Imagem em um pdf\n",
    "    - biblioteca pikepdf"
   ]
  },
  {
   "cell_type": "code",
   "execution_count": null,
   "metadata": {},
   "outputs": [],
   "source": []
  },
  {
   "cell_type": "markdown",
   "metadata": {},
   "source": [
    "# Substituir texto no pdf tipo contrato\n",
    "\n",
    "- Não recomendo fazer diretamente pelo Python. Realmente do que vi a melhor opção me parece o Word fazer isso\n",
    "- Caso precise automatizar, automatize o processo fazendo ele pelo Word\n",
    "- Quem quiser MUITO fazer isso pelo Python, tem um link aqui que vai te ajudar de uma solução que achei que funciona. Tem seus bugs/cuidados especiais, mas funciona: https://pdf.co/samples/pdf-co-web-api-replace-text-from-pdf-python-replace-text-from-url"
   ]
  }
 ],
 "metadata": {
  "kernelspec": {
   "display_name": "Python 3 (ipykernel)",
   "language": "python",
   "name": "python3"
  },
  "language_info": {
   "codemirror_mode": {
    "name": "ipython",
    "version": 3
   },
   "file_extension": ".py",
   "mimetype": "text/x-python",
   "name": "python",
   "nbconvert_exporter": "python",
   "pygments_lexer": "ipython3",
   "version": "3.12.1"
  }
 },
 "nbformat": 4,
 "nbformat_minor": 4
}
