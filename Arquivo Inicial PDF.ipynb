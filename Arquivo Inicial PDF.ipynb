{
 "cells": [
  {
   "cell_type": "markdown",
   "metadata": {},
   "source": [
    "# Vamos aprender a trabalhar com PDF usando o Python\n",
    "\n",
    "- Regra geral: PDF foi feito justamente para bloquear muita coisa, então não é fácil \"brincar\" com um pdf\n",
    "- Mesmo assim, Python tem várias bibliotecas que vão nos ajudar, vamos focar em 2:\n",
    "    - PyPDF2\n",
    "    - Tabula\n",
    "- Ler e extrair informações de um PDF a gente consegue fazer.\n",
    "- Escrever e Editar, aí já é outra história\n",
    "\n",
    "### Para os nossos exemplos, vamos avaliar o Release de Resultados do 3º e 4º Trimestre de 2020 da Magazine Luiza"
   ]
  },
  {
   "cell_type": "markdown",
   "metadata": {},
   "source": [
    "#### 1º Objetivo: Queremos conseguir separar apenas o DRE do Release de Resultados (Página 14) para enviar para a Diretoria, como fazemos?\n",
    "    - Separar as páginas de um pdf"
   ]
  },
  {
   "cell_type": "code",
   "execution_count": 3,
   "metadata": {},
   "outputs": [
    {
     "name": "stdout",
     "output_type": "stream",
     "text": [
      "<PyPDF2._reader.PdfReader object at 0x0000022F191072C0>\n",
      "Arquivo Pagina 1.pdf já existe. Pulando a criação.\n",
      "Arquivo Pagina 2.pdf já existe. Pulando a criação.\n",
      "Arquivo Pagina 3.pdf já existe. Pulando a criação.\n",
      "Arquivo Pagina 4.pdf já existe. Pulando a criação.\n",
      "Arquivo Pagina 5.pdf já existe. Pulando a criação.\n",
      "Arquivo Pagina 6.pdf já existe. Pulando a criação.\n",
      "Arquivo Pagina 7.pdf já existe. Pulando a criação.\n",
      "Arquivo Pagina 8.pdf já existe. Pulando a criação.\n",
      "Arquivo Pagina 9.pdf já existe. Pulando a criação.\n",
      "Arquivo Pagina 10.pdf já existe. Pulando a criação.\n",
      "Arquivo Pagina 11.pdf já existe. Pulando a criação.\n",
      "Arquivo Pagina 12.pdf já existe. Pulando a criação.\n",
      "Arquivo Pagina 13.pdf já existe. Pulando a criação.\n",
      "Arquivo Pagina 14.pdf já existe. Pulando a criação.\n",
      "Arquivo Pagina 15.pdf já existe. Pulando a criação.\n",
      "Arquivo Pagina 16.pdf já existe. Pulando a criação.\n",
      "Arquivo Pagina 17.pdf já existe. Pulando a criação.\n",
      "Arquivo Pagina 18.pdf já existe. Pulando a criação.\n",
      "Arquivo Pagina 19.pdf já existe. Pulando a criação.\n",
      "Arquivo Pagina 20.pdf já existe. Pulando a criação.\n",
      "Arquivo Pagina 21.pdf já existe. Pulando a criação.\n",
      "Arquivo Pagina 22.pdf já existe. Pulando a criação.\n",
      "Arquivo Pagina 23.pdf já existe. Pulando a criação.\n",
      "Arquivo Pagina 24.pdf já existe. Pulando a criação.\n"
     ]
    }
   ],
   "source": [
    "import PyPDF2 as pyf\n",
    "import os\n",
    "from pathlib import Path\n",
    "\n",
    "# Nome do arquivo PDF\n",
    "nome = 'MGLU_ER_3T20_POR.pdf'\n",
    "# Abre o arquivo PDF\n",
    "arquivo_pdf = pyf.PdfReader(nome)\n",
    "print(arquivo_pdf)\n",
    "\n",
    "# Itera por cada página do arquivo PDF\n",
    "for i, pagina in enumerate(arquivo_pdf.pages):\n",
    "    # Calcula o número da página (começa em 0, por isso adicionamos 1)\n",
    "    num_pagina = i + 1  \n",
    "    # Caminho de saída para o novo arquivo PDF\n",
    "    output_path = Path(f'paginas/Arquivo Pagina {num_pagina}.pdf')\n",
    "\n",
    "    # Verifica se o arquivo já existe\n",
    "    if output_path.exists():\n",
    "        # Se o arquivo existir, imprime uma mensagem e pula a criação\n",
    "        print(f'Arquivo Pagina {num_pagina}.pdf já existe. Pulando a criação.')\n",
    "    else:\n",
    "        # Se o arquivo não existir, cria um novo PDF com a página atual\n",
    "        novo_pdf = pyf.PdfWriter()\n",
    "        novo_pdf.add_page(pagina)\n",
    "        # Abre o caminho de saída em modo 'write binary' e escreve o novo PDF\n",
    "        with output_path.open(mode='wb') as arquivo:\n",
    "            novo_pdf.write(arquivo)\n",
    "        # Imprime uma mensagem de confirmação após a criação do arquivo\n",
    "        print(f'Arquivo Pagina {num_pagina}.pdf criado com sucesso.')\n",
    "\n",
    "\n"
   ]
  },
  {
   "cell_type": "code",
   "execution_count": 4,
   "metadata": {},
   "outputs": [
    {
     "name": "stdout",
     "output_type": "stream",
     "text": [
      "<PyPDF2._reader.PdfReader object at 0x0000022F19363BF0>\n",
      "Arquivo Pagina 1.pdf já existe. Pulando a criação.\n",
      "Arquivo Pagina 2.pdf já existe. Pulando a criação.\n",
      "Arquivo Pagina 3.pdf já existe. Pulando a criação.\n",
      "Arquivo Pagina 4.pdf já existe. Pulando a criação.\n",
      "Arquivo Pagina 5.pdf já existe. Pulando a criação.\n",
      "Arquivo Pagina 6.pdf já existe. Pulando a criação.\n",
      "Arquivo Pagina 7.pdf já existe. Pulando a criação.\n",
      "Arquivo Pagina 8.pdf já existe. Pulando a criação.\n",
      "Arquivo Pagina 9.pdf já existe. Pulando a criação.\n",
      "Arquivo Pagina 10.pdf já existe. Pulando a criação.\n",
      "Arquivo Pagina 11.pdf já existe. Pulando a criação.\n",
      "Arquivo Pagina 12.pdf já existe. Pulando a criação.\n",
      "Arquivo Pagina 13.pdf já existe. Pulando a criação.\n",
      "Arquivo Pagina 14.pdf já existe. Pulando a criação.\n",
      "Arquivo Pagina 15.pdf já existe. Pulando a criação.\n",
      "Arquivo Pagina 16.pdf já existe. Pulando a criação.\n",
      "Arquivo Pagina 17.pdf já existe. Pulando a criação.\n",
      "Arquivo Pagina 18.pdf já existe. Pulando a criação.\n",
      "Arquivo Pagina 19.pdf já existe. Pulando a criação.\n",
      "Arquivo Pagina 20.pdf já existe. Pulando a criação.\n",
      "Arquivo Pagina 21.pdf já existe. Pulando a criação.\n",
      "Arquivo Pagina 22.pdf já existe. Pulando a criação.\n",
      "Arquivo Pagina 23.pdf já existe. Pulando a criação.\n",
      "Arquivo Pagina 24.pdf já existe. Pulando a criação.\n"
     ]
    }
   ],
   "source": [
    "import PyPDF2 as pyf\n",
    "import os\n",
    "from pathlib import Path\n",
    "\n",
    "# Nome do arquivo PDF\n",
    "nome = 'MGLU_ER_3T20_POR.pdf'\n",
    "# Abre o arquivo PDF\n",
    "arquivo_pdf = pyf.PdfReader(nome)\n",
    "print(arquivo_pdf)\n",
    "\n",
    "# Caminho da pasta de saída\n",
    "pasta_saida = Path('paginas')\n",
    "# Cria a pasta se ela não existir\n",
    "pasta_saida.mkdir(parents=True, exist_ok=True)\n",
    "\n",
    "# Itera por cada página do arquivo PDF\n",
    "for i, pagina in enumerate(arquivo_pdf.pages):\n",
    "    # Calcula o número da página (começa em 0, por isso adicionamos 1)\n",
    "    num_pagina = i + 1  \n",
    "    # Caminho de saída para o novo arquivo PDF\n",
    "    output_path = pasta_saida / f'Arquivo Pagina {num_pagina}.pdf'\n",
    "\n",
    "    # Verifica se o arquivo já existe\n",
    "    if output_path.exists():\n",
    "        # Se o arquivo existir, imprime uma mensagem e pula a criação\n",
    "        print(f'Arquivo Pagina {num_pagina}.pdf já existe. Pulando a criação.')\n",
    "    else:\n",
    "        # Se o arquivo não existir, cria um novo PDF com a página atual\n",
    "        novo_pdf = pyf.PdfWriter()\n",
    "        novo_pdf.add_page(pagina)\n",
    "        # Abre o caminho de saída em modo 'write binary' e escreve o novo PDF\n",
    "        with output_path.open(mode='wb') as arquivo:\n",
    "            novo_pdf.write(arquivo)\n",
    "        # Imprime uma mensagem de confirmação após a criação do arquivo\n",
    "        print(f'Arquivo Pagina {num_pagina}.pdf criado com sucesso.')\n"
   ]
  },
  {
   "cell_type": "markdown",
   "metadata": {},
   "source": [
    "#### 2º Objetivo: Com o Release de Resultados já separado página por página, queremos incluir apenas as Páginas de Destaque (Página 1), DRE (Página 14) e Balanço (Página 16).\n",
    "    - Juntar vários pdfs em 1"
   ]
  },
  {
   "cell_type": "code",
   "execution_count": 13,
   "metadata": {},
   "outputs": [
    {
     "name": "stdout",
     "output_type": "stream",
     "text": [
      "Consolidado.pdf já existe. Pulando a criação.\n"
     ]
    }
   ],
   "source": [
    "import PyPDF2 as pyf\n",
    "import os\n",
    "from pathlib import Path\n",
    "\n",
    "# Números das páginas que você deseja consolidar\n",
    "num_paginas = [1, 14, 16]\n",
    "\n",
    "# Nome do novo arquivo consolidado\n",
    "nome_consolidado = 'Consolidado.pdf'\n",
    "output_path = Path(nome_consolidado)\n",
    "\n",
    "# Verifica se o arquivo consolidado já existe\n",
    "if output_path.exists():\n",
    "    # Se o arquivo existir, imprime uma mensagem e não cria o arquivo novamente\n",
    "    print(f'{nome_consolidado} já existe. Pulando a criação.')\n",
    "else:\n",
    "    # Se o arquivo não existir, cria um novo arquivo PDF consolidado\n",
    "    novo_arquivo = pyf.PdfWriter()\n",
    "\n",
    "    # Adiciona as páginas especificadas ao novo arquivo PDF\n",
    "    for num in num_paginas:\n",
    "        pagina_pdf = pyf.PdfReader(f'paginas/Arquivo Pagina {num}.pdf')\n",
    "        novo_arquivo.add_page(pagina_pdf.pages[0])\n",
    "\n",
    "    # Abre o caminho de saída em modo 'write binary' e escreve o novo PDF\n",
    "    with output_path.open(mode='wb') as arquivo:\n",
    "        novo_arquivo.write(arquivo)\n",
    "    # Imprime uma mensagem de confirmação após a criação do arquivo\n",
    "    print(f'{nome_consolidado} criado com sucesso.')\n",
    "    \n",
    "\n"
   ]
  },
  {
   "cell_type": "markdown",
   "metadata": {},
   "source": [
    "### Extra: Para adicionar todas as páginas de 2 pdfs"
   ]
  },
  {
   "cell_type": "code",
   "execution_count": null,
   "metadata": {},
   "outputs": [],
   "source": [
    "import PyPDF2 as pyf\n",
    "\n",
    "# Cria um objeto PdfMerger\n",
    "pdf_mesclado = pyf.PdfMerger()\n",
    "\n",
    "# Adiciona os arquivos PDF que você deseja mesclar\n",
    "pdf_mesclado.append('MGLU_ER_3T20_POR.pdf')\n",
    "pdf_mesclado.append('MGLU_ER_4T20_POR.pdf')\n",
    "\n",
    "# Nome do arquivo consolidado\n",
    "nome_consolidado = 'Consolidado.pdf'\n",
    "output_path = Path(nome_consolidado)\n",
    "\n",
    "# Verifica se o arquivo consolidado já existe\n",
    "if output_path.exists():\n",
    "    # Se o arquivo existir, imprime uma mensagem e não cria o arquivo novamente\n",
    "    print(f'{nome_consolidado} já existe. Pulando a criação.')\n",
    "else:\n",
    "    # Se o arquivo não existir, grava o arquivo consolidado\n",
    "    with output_path.open(mode='wb') as arquivo:\n",
    "        pdf_mesclado.write(arquivo)\n",
    "    # Imprime uma mensagem de confirmação após a criação do arquivo\n",
    "    print(f'{nome_consolidado} criado com sucesso.')"
   ]
  },
  {
   "cell_type": "markdown",
   "metadata": {},
   "source": [
    "# Funcionalidades que podem ser úteis:\n",
    "\n",
    "- Inserir arquivo no meio do outro\n",
    "- Quero colocar dentro do Resultado do 4T20 os destaques do 3T20 para poder comparar os 2 dentro do mesmo relatório"
   ]
  },
  {
   "cell_type": "code",
   "execution_count": 2,
   "metadata": {},
   "outputs": [],
   "source": [
    "import PyPDF2 as pyf\n",
    "import os\n",
    "from pathlib import Path\n",
    "\n",
    "# Cria um objeto PdfMerger\n",
    "pdf_mesclado = pyf.PdfMerger()\n",
    "\n",
    "# Adiciona os arquivos PDF que você deseja mesclar\n",
    "\n",
    "pdf_mesclado.append('MGLU_ER_4T20_POR.pdf')\n",
    "pdf_mesclado.merge(1, 'paginas/Arquivo Pagina 1.pdf')\n",
    "\n",
    "with Path(f'Relatório 2 Trimestres.pdf').open(mode='wb') as arquivo:\n",
    "        pdf_mesclado.write(arquivo)\n"
   ]
  },
  {
   "cell_type": "markdown",
   "metadata": {},
   "source": [
    "- Rodar Página"
   ]
  },
  {
   "cell_type": "markdown",
   "metadata": {},
   "source": [
    "# Trabalhando com Textos e Informações Dentro do PDF\n",
    "\n",
    "#### 1º Objetivo: Quero identificar como foram as Despesas com Vendas da MGLU\n",
    "    - Pegar texto da página e identificar onde está essa informação"
   ]
  },
  {
   "cell_type": "code",
   "execution_count": 5,
   "metadata": {},
   "outputs": [
    {
     "name": "stdout",
     "output_type": "stream",
     "text": [
      "24\n",
      "{'/Title': 'DESEMPENHO FINANCEIRO CONSOLIDADO', '/Author': 'an_rezende', '/Subject': 'Receita Bruta', '/Creator': 'Microsoft® Office Word 2007', '/CreationDate': \"D:20201109183121-03'00'\", '/ModDate': \"D:20201109183121-03'00'\", '/Producer': 'Microsoft® Office Word 2007'}\n"
     ]
    }
   ],
   "source": [
    "arquivo = pyf.PdfReader('MGLU_ER_3T20_POR.pdf')\n",
    "\n",
    "qtde_paginas = len(arquivo.pages)\n",
    "print(qtde_paginas)\n",
    "\n",
    "metadados_arquivo = arquivo.metadata\n",
    "print(metadados_arquivo)"
   ]
  },
  {
   "cell_type": "code",
   "execution_count": 39,
   "metadata": {},
   "outputs": [
    {
     "name": "stdout",
     "output_type": "stream",
     "text": [
      "C:\\Users\\sival\\OneDrive\\Documentos\\python_txt_pdf\\MGLU_ER_3T20_POR.pdf\n"
     ]
    }
   ],
   "source": [
    "import os\n",
    "caminho_pdf = \"MGLU_ER_3T20_POR.pdf\"\n",
    "print(os.path.abspath(caminho_pdf))\n"
   ]
  },
  {
   "cell_type": "code",
   "execution_count": 11,
   "metadata": {},
   "outputs": [
    {
     "name": "stdout",
     "output_type": "stream",
     "text": [
      "Numero Pagina:  10\n"
     ]
    }
   ],
   "source": [
    "texto_referencia = '| Despesas com Vendas'\n",
    "\n",
    "for i, pagina in enumerate(arquivo.pages):\n",
    "    texto_pagina = pagina.extract_text()\n",
    "    if texto_referencia in texto_pagina:\n",
    "        print('Numero Pagina: ', i+1)\n",
    "        texto_analisar = texto_pagina\n"
   ]
  },
  {
   "cell_type": "code",
   "execution_count": 13,
   "metadata": {},
   "outputs": [
    {
     "name": "stdout",
     "output_type": "stream",
     "text": [
      "Divulgação de Resultados  \n",
      "3T20 \n",
      "10 \n",
      " \n",
      "  \n",
      " \n",
      "| Despesas Operacionais  \n",
      " \n",
      "R$ milhões  3T20  \n",
      "Ajustado   % RL  3T19  \n",
      "Ajustado   % RL   Var(%)  9M20  \n",
      "Ajustado   % RL  9M19  \n",
      "Ajustado   % RL   Var(%)  \n",
      "  Despesas com Vendas   (1.432,6)  -17,2%  (890,0)  -18,3%  61,0%  (3.487,2)  -18,2%  (2.309,1)  -17,1%  51,0%  \n",
      "  Despesas Gerais e Administrativas   (240,7)  -2,9%  (207,1)  -4,3%  16,2%  (617,3)  -3,2%  (498,2)  -3,7%  23,9%  \n",
      " Subtotal      (1.673,3)  -20,1%      (1.097,1)  -22,6%  52,5%      (4.104,5)  -21,5%      (2.807,4)  -20,8%  46,2%  \n",
      "  Perdas em Liquidação Duvidosa   (25,4)  -0,3%  (20,2)  -0,4%  25,4%  (84,5)  -0,4%  (45,8)  -0,3%  84,3%  \n",
      "  Outras Receitas Operacionais, Líquidas   15,2  0,2%  15,3  0,3%  -0,6%  41,0  0,2%  44,0  0,3%  -6,8%  \n",
      "  Total de Despesas Operacionais       (1.683,5)  -20,3%      (1.102,0)  -22,7%  52,8%      (4.148,0)  -21,7%      (2.809,2)  -20,8%  47,7%  \n",
      " \n",
      "| Despesas com Vendas  \n",
      " \n",
      "No 3T20, as despesas com vendas totalizaram R$1.432,6 milhões, equivalentes a 17,2% da receita líquida, 1,1 p.p. menor que no \n",
      "3T19 , principalmente devido ao forte crescimento das vendas . Vale ressaltar que a Companhia conseguiu diluir as despesas com \n",
      "vendas m esmo investi ndo em maior nível de serviço,  especialmente em  atendimento e logística.  \n",
      " \n",
      "Nos 9M20, as despesas com vendas totalizaram R$3.487,2 milhões, equivalentes a 18,2% da receita líquida (+1,1 p.p. versus  os \n",
      "9M19).  \n",
      " \n",
      "| Despesas Gerais e Administrativas   \n",
      " \n",
      "No 3T20, as despesas gerais e administrativas totalizaram R$240,7 milhões, equivalentes a 2,9% da receita líquida, uma reduçã o \n",
      "de 1,4 p.p. em relação ao 3T19 devido, principalm ente, ao forte crescimento das vendas.   \n",
      " \n",
      "Nos 9M20, as despesas gerais e admini strativas totalizaram R$617,3 milhões, equivalentes a 3,2% da receita líquida.  \n",
      " \n",
      "| Perdas em Créditos de Liquidação Duvidosa  \n",
      " \n",
      "As provisões para perdas em crédito de liquidação duvidosa totalizaram R$25,4 milhões no 3T20 e R$84,5 nos 9M20.  \n",
      " \n",
      "| Outras Receitas e Despesas Operacionais, Líquidas  \n",
      " \n",
      "R$ milhões  3T20  % RL  3T19  % RL  Var(%)  9M20  % RL  9M19  % RL  Var(%)  \n",
      " Ganho (Perda) na Venda de Ativo Imobilizado               (0,0)  0,0%                1,5  0,0%  -102,0%              (1,9)  0,0%                4,4  0,0%  -143,2%  \n",
      " Apropriação de Receita Diferida               15,2  0,2%               13,8  0,3%  10,3%               42,9  0,2%               39,5  0,3%  8,6%  \n",
      " Subtotal - Ajustado               15,2  0,2%               15,3  0,3%  -0,6%               41,0  0,2%               44,0  0,3%  -6,8%  \n",
      " Créditos tributários                  0,3  0,0%            240,8  5,0%  -99,9%               56,6  0,3%            812,0  6,0%  -93,0%  \n",
      " Provisão para riscos tributários               (0,2)  0,0%            (16,7)  -0,3%  -98,8%               33,6  0,2%          (246,7)  -1,8%  -113,6%  \n",
      " Honorários especialistas                (4,3)  -0,1%            (28,8)  -0,6%  -85,0%            (19,8)  -0,1%          (144,0)  -1,1%  -86,3%  \n",
      " Despesas pré -operacionais de lojas               (3,2)  0,0%            (12,1)  -0,2%  -73,8%              (7,1)  0,0%            (20,3)  -0,2%  -65,0%  \n",
      " Outras despesas não -recorrentes                (7,8)  -0,1%            (15,6)  -0,3%  -50,3%            (23,2)  -0,1%            (52,1)  -0,4%  -55,5%  \n",
      " Subtotal - Não Recorrente             (15,1)  -0,2%            167,7  3,4%  -109,0%               40,2  0,2%            348,9  2,6%  -88,5%  \n",
      " Total                  0,1  0,0%            183,0  3,8%  -100,0%               81,2  0,4%            392,9  2,9%  -79,3%  \n",
      " \n",
      "No 3T20, as outras receitas operacionais líquidas ajustadas totalizaram R$15,2 milhões, influenciadas principalmente pela \n",
      "apropriação de receitas diferidas no montante de R$15,2 milhões. Nos 9M20, as outras receitas operacionais líquidas ajustadas \n",
      "totalizaram R$41,0 milhões.  \n",
      " \n",
      "| Equivalência Patrimonial  \n",
      " \n",
      "No 3T20, o resultado da equivalência patrimonial foi R$65,9 milhões, composto da seguinte forma: (i) o desempenho da \n",
      "Luizacred, responsável pela equivalência de R$58,8  milhões e (ii) a Luizaseg, responsável pela equivalência de R$7,1 milhões. Nos \n",
      "9M20, o resultado da equivalência patrimonial foi R$95,8 milhões.  \n",
      " \n",
      " \n"
     ]
    }
   ],
   "source": [
    "print(texto_analisar)"
   ]
  },
  {
   "cell_type": "code",
   "execution_count": 16,
   "metadata": {},
   "outputs": [
    {
     "name": "stdout",
     "output_type": "stream",
     "text": [
      "| Despesas com Vendas  \n",
      " \n",
      "No 3T20, as despesas com vendas totalizaram R$1.432,6 milhões, equivalentes a 17,2% da receita líquida, 1,1 p.p. menor que no \n",
      "3T19 , principalmente devido ao forte crescimento das vendas . Vale ressaltar que a Companhia conseguiu diluir as despesas com \n",
      "vendas m esmo investi ndo em maior nível de serviço,  especialmente em  atendimento e logística.  \n",
      " \n",
      "Nos 9M20, as despesas com vendas totalizaram R$3.487,2 milhões, equivalentes a 18,2% da receita líquida (+1,1 p.p. versus  os \n",
      "9M19).  \n",
      " \n",
      "\n"
     ]
    }
   ],
   "source": [
    "posicao_inicial = texto_analisar.find(texto_referencia)\n",
    "posicao_final =  texto_analisar.find('|', posicao_inicial+1)\n",
    "\n",
    "texto_final = texto_analisar[posicao_inicial:posicao_final]\n",
    "print(texto_final)"
   ]
  },
  {
   "cell_type": "markdown",
   "metadata": {},
   "source": [
    "#### 2º Objetivo: Quero analisar o DRE (sem ajuste - Página 5)\n",
    "    - Para ler tabelas em pdf, use o tabula (é ninja)\n",
    "    \n",
    "    - Cuidado 1: Instale o tabula-py (não instale o tabula). Se instalar o tabula errado, desinstale ele, instale o tabula-py, desinstale o tabula-py e instale novamente o tabula-py. Reinicie o kernel do Jupyter após isso\n",
    "    \n",
    "    - Cuidado 2: Tem que ter o java instalado no seu computador (depois de instalar, reinicie o computador)"
   ]
  },
  {
   "cell_type": "code",
   "execution_count": null,
   "metadata": {},
   "outputs": [],
   "source": []
  },
  {
   "cell_type": "markdown",
   "metadata": {},
   "source": [
    "#### 3º Objetivo: Quero analisar o Capital de Giro e os Investimentos (ambas as tabelas na página 12)\n",
    "    - Páginas com mais de 1 tabela"
   ]
  },
  {
   "cell_type": "code",
   "execution_count": null,
   "metadata": {},
   "outputs": [],
   "source": []
  },
  {
   "cell_type": "markdown",
   "metadata": {},
   "source": [
    "#### O que fazer quando o tabula não consegue ler alguma linha da tabela? Como o cabeçalho, no nosso caso?"
   ]
  },
  {
   "cell_type": "code",
   "execution_count": null,
   "metadata": {},
   "outputs": [],
   "source": []
  },
  {
   "cell_type": "markdown",
   "metadata": {},
   "source": [
    "# Outro método que pode ser útil algum dia: Captar Imagem em um pdf\n",
    "    - biblioteca pikepdf"
   ]
  },
  {
   "cell_type": "code",
   "execution_count": null,
   "metadata": {},
   "outputs": [],
   "source": []
  },
  {
   "cell_type": "markdown",
   "metadata": {},
   "source": [
    "# Substituir texto no pdf tipo contrato\n",
    "\n",
    "- Não recomendo fazer diretamente pelo Python. Realmente do que vi a melhor opção me parece o Word fazer isso\n",
    "- Caso precise automatizar, automatize o processo fazendo ele pelo Word\n",
    "- Quem quiser MUITO fazer isso pelo Python, tem um link aqui que vai te ajudar de uma solução que achei que funciona. Tem seus bugs/cuidados especiais, mas funciona: https://pdf.co/samples/pdf-co-web-api-replace-text-from-pdf-python-replace-text-from-url"
   ]
  }
 ],
 "metadata": {
  "kernelspec": {
   "display_name": "Python 3 (ipykernel)",
   "language": "python",
   "name": "python3"
  },
  "language_info": {
   "codemirror_mode": {
    "name": "ipython",
    "version": 3
   },
   "file_extension": ".py",
   "mimetype": "text/x-python",
   "name": "python",
   "nbconvert_exporter": "python",
   "pygments_lexer": "ipython3",
   "version": "3.12.1"
  }
 },
 "nbformat": 4,
 "nbformat_minor": 4
}
