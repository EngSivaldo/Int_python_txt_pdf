{
 "cells": [
  {
   "cell_type": "markdown",
   "metadata": {},
   "source": [
    "# Integração do Python com Arquivos txt\n",
    "\n",
    "Como quase tudo no Python, existem várias formas de ler um arquivo no Python.\n",
    "\n",
    "Aprendemos em módulos passadas a ler arquivos em Excel ou csv com o Pandas, minha recomendação é que, sempre que possível, use o pandas para isso porque ele é um módulo feito para análise de dados e tem muita coisa pronta dentro dele.\n",
    "\n",
    "Caso queira ler um arquivo txt simplesmente ou escrever um, vamos ver agora como fazer.\n",
    "\n",
    "### Estrutura:\n"
   ]
  },
  {
   "cell_type": "raw",
   "metadata": {},
   "source": [
    "1. Método open: -> Abre um arquivo txt\n",
    "\n",
    "arquivo = open('NomeArquivo.txt', 'r')\n",
    "\n",
    "Usamos 'r' para abrir o arquivo para ler (read) e 'w' quando estamos abrindo o arquivo para escrever (write) ou 'a' se formos adicionar (append) uma informação no arquivo"
   ]
  },
  {
   "cell_type": "raw",
   "metadata": {
    "vscode": {
     "languageId": "raw"
    }
   },
   "source": [
    "arquivo = open('Alunos.txt', 'r')\n",
    "print(arquivo.read())"
   ]
  },
  {
   "cell_type": "raw",
   "metadata": {},
   "source": [
    "print(\"Hello, Jupyter!\")\n",
    "\n"
   ]
  },
  {
   "cell_type": "markdown",
   "metadata": {},
   "source": []
  },
  {
   "cell_type": "code",
   "execution_count": 30,
   "metadata": {},
   "outputs": [],
   "source": [
    "arquivo = open('Alunos.txt', 'r')\n",
    "print(arquivo.read())\n",
    "\n",
    "from IPython.display import clear_output\n",
    "clear_output()\n"
   ]
  },
  {
   "cell_type": "raw",
   "metadata": {
    "vscode": {
     "languageId": "raw"
    }
   },
   "source": [
    "arquivo = open('Alunos.txt', 'r')\n",
    "print(arquivo.read())"
   ]
  },
  {
   "cell_type": "markdown",
   "metadata": {},
   "source": [
    "- Com o arquivo aberto, agora podemos efetivamente ler o arquivo com os métodos:\n"
   ]
  },
  {
   "cell_type": "raw",
   "metadata": {},
   "source": [
    "2. Método read():\n",
    "\n",
    "texto_arquivo = arquivo.read()\n",
    "\n",
    "3. Método readlines():\n",
    "\n",
    "lista_linhas = arquivo.readlines()"
   ]
  },
  {
   "cell_type": "code",
   "execution_count": 29,
   "metadata": {},
   "outputs": [],
   "source": [
    "arquivo = open('Alunos.txt', 'r')\n",
    "print(arquivo.read())\n",
    "\n",
    "from IPython.display import clear_output\n",
    "clear_output()\n"
   ]
  },
  {
   "cell_type": "code",
   "execution_count": 11,
   "metadata": {},
   "outputs": [],
   "source": [
    "\n",
    "texto_arquivo = arquivo.read()\n",
    "\n",
    "lista_linhas = arquivo.readlines()"
   ]
  },
  {
   "cell_type": "markdown",
   "metadata": {},
   "source": [
    "- Para escrever alguma coisa no arquivo teremos o método write:\n"
   ]
  },
  {
   "cell_type": "raw",
   "metadata": {},
   "source": [
    "4. Método write():\n",
    "\n",
    "arquivo.write('Texto que quero escrever')"
   ]
  },
  {
   "cell_type": "markdown",
   "metadata": {},
   "source": [
    "- Obs: Quando você abre um arquivo, ele permanece aberto no Python até você fechar. Existem 2 formas de fazer isso:\n"
   ]
  },
  {
   "cell_type": "raw",
   "metadata": {},
   "source": [
    "5. Método close():\n",
    "\n",
    "arquivo.close()\n",
    "\n",
    "6. Usando a estrutura with: -> ao final do with, a própria estrutura with fecha automaticamente o arquivo\n",
    "\n",
    "with open('NomeArquivo.txt', 'w') as arquivo:\n",
    "    arquivo.write()\n",
    "    ..."
   ]
  },
  {
   "cell_type": "markdown",
   "metadata": {},
   "source": [
    "### Desafio onde vamos aprender:\n",
    "\n",
    "- Na Hashtag, sempre analisamos o nosso \"Funil de Vendas\". Para isso, rastreamos de onde veio os alunos por meio de um código, do tipo:\n",
    "  - hashtag_site_org -> Pessoas que vieram pelo site da Hashtag\n",
    "  - hashtag_yt_org -> Pessoas que vieram pelo Youtube da Hashtag\n",
    "  - hashtag_ig_org -> Pessoas que vieram pelo Instagram da Hashtag\n",
    "  - hashtag_igfb_org -> Pessoas que vieram pelo Instagram ou Facebook da Hashtag\n",
    "\n",
    "Os códigos diferentes disso, são códigos de anúncio da Hashtag.\n",
    "\n",
    "- Queremos analisar quantos alunos vieram de anúncio e quantos vieram \"orgânico\".\n",
    "- Qual a melhor fonte \"orgânica\" de alunos\n",
    "\n",
    "Obs: orgânico é tudo aquilo que não veio de anúncios.\n",
    "\n",
    "No nosso sistema, conseguimos exportar um txt com as informações dos alunos, conforme o arquivo Alunos.txt<br>\n",
    "(Os dados foram gerados aleatoriamente para simular uma situação real, já que não podemos fornecer os dados reais dos alunos por questões de segurança)\n",
    "\n",
    "- No final, para treinar, vamos escrever todas essas respostas em um novo arquivo txt\n"
   ]
  },
  {
   "cell_type": "code",
   "execution_count": 1,
   "metadata": {},
   "outputs": [
    {
     "name": "stdout",
     "output_type": "stream",
     "text": [
      "3.12.1 (tags/v3.12.1:2305ca5, Dec  7 2023, 22:03:25) [MSC v.1937 64 bit (AMD64)]\n"
     ]
    }
   ],
   "source": [
    "import sys\n",
    "print(sys.version)\n"
   ]
  },
  {
   "cell_type": "code",
   "execution_count": 2,
   "metadata": {},
   "outputs": [
    {
     "name": "stdout",
     "output_type": "stream",
     "text": [
      "['.git', '.ipynb_checkpoints', '.venv', 'Alunos.txt', 'Python Integraçõestxtcsv01.ipynb', 'README.md']\n"
     ]
    }
   ],
   "source": [
    "import os\n",
    "\n",
    "# Listar arquivos no diretório atual\n",
    "print(os.listdir('.'))\n"
   ]
  },
  {
   "cell_type": "code",
   "execution_count": 3,
   "metadata": {},
   "outputs": [
    {
     "name": "stdout",
     "output_type": "stream",
     "text": [
      "Erro ao abrir o arquivo: 'utf-8' codec can't decode byte 0xe1 in position 3696: invalid continuation byte\n"
     ]
    }
   ],
   "source": [
    "try:\n",
    "    with open('Alunos.txt', 'r', encoding='utf-8') as arquivo:\n",
    "        conteudo = arquivo.read()\n",
    "        print(conteudo)\n",
    "except Exception as e:\n",
    "    print(f\"Erro ao abrir o arquivo: {e}\")\n"
   ]
  },
  {
   "cell_type": "markdown",
   "metadata": {},
   "source": [
    "### "
   ]
  },
  {
   "cell_type": "code",
   "execution_count": 28,
   "metadata": {},
   "outputs": [],
   "source": [
    "try:\n",
    "    with open('Alunos.txt', 'r', encoding='latin-1') as arquivo:\n",
    "        conteudo = arquivo.read()\n",
    "        print(conteudo)\n",
    "except Exception as e:\n",
    "    print(f\"Erro ao abrir o arquivo: {e}\")\n",
    "from IPython.display import clear_output\n",
    "clear_output()\n"
   ]
  },
  {
   "cell_type": "code",
   "execution_count": 5,
   "metadata": {},
   "outputs": [
    {
     "name": "stdout",
     "output_type": "stream",
     "text": [
      "                                               Dados\n",
      "0  64791230127;23845010716140127;2384526438113012...\n",
      "1  fulano1199@gmail.com,origemurl:hashtag_org_web...\n",
      "2  fulano1133@gmail.com,origemurl:238448532335001...\n"
     ]
    }
   ],
   "source": [
    "import pandas as pd\n",
    "\n",
    "# Criação de uma lista de dados\n",
    "dados = [\n",
    "    \"64791230127;23845010716140127;23845264381130127;23845264791230127\",\n",
    "    \"fulano1199@gmail.com,origemurl:hashtag_org_webinarvba;hashtag_yt_org_planilha_U8b23GLDE34;nan;hashtag_yt_org_planilha_m4ESZRK45TM;97167483996;109574838689;hashtag_org_webinarvba;23845345371420127;hashtag_yt_org_planilha_Salpm1zs2AM;hashtag_yt_org_top10vba_CHV7lN_W49Y;hashtag_site_org;nan;23844216964140127;23844216964140100;hashtag_email_webinarvba\",\n",
    "    \"fulano1133@gmail.com,origemurl:23844853233500127;23844853233500127;23844853233500100\"\n",
    "]\n",
    "\n",
    "# Convertendo a lista de dados em um DataFrame\n",
    "df = pd.DataFrame(dados, columns=['Dados'])\n",
    "\n",
    "# Exibindo o DataFrame\n",
    "print(df)\n"
   ]
  },
  {
   "cell_type": "code",
   "execution_count": 26,
   "metadata": {},
   "outputs": [],
   "source": [
    "arquivo = open('Alunos.txt', 'r')\n",
    "print(arquivo.readlines())\n",
    "\n",
    "from IPython.display import clear_output\n",
    "clear_output()\n"
   ]
  },
  {
   "cell_type": "code",
   "execution_count": 25,
   "metadata": {},
   "outputs": [],
   "source": [
    "arquivo = open('Alunos.txt', 'r')\n",
    "print(arquivo.read())\n",
    "\n",
    "from IPython.display import clear_output\n",
    "clear_output()\n"
   ]
  },
  {
   "cell_type": "code",
   "execution_count": 24,
   "metadata": {},
   "outputs": [],
   "source": [
    "arquivo = open('Alunos.txt', 'r')\n",
    "print(arquivo.read())\n",
    "\n",
    "#limpar tela \n",
    "from IPython.display import clear_output\n",
    "clear_output()\n"
   ]
  },
  {
   "cell_type": "code",
   "execution_count": 39,
   "metadata": {},
   "outputs": [
    {
     "name": "stdout",
     "output_type": "stream",
     "text": [
      "fim do codigo\n"
     ]
    }
   ],
   "source": [
    "#criar novo arquivo\n",
    "novo_arquivo = open('Resumo.txt', 'w')\n",
    "\n",
    "novo_arquivo.write('Olá mundo!\\noutra linha\\n')\n",
    "novo_arquivo.write('terceira linha!')\n",
    "#fechar arquivo, para poder gerar o que foi escrito\n",
    "novo_arquivo.close()\n",
    "\n",
    "with open('resumo2.txt', 'w') as arquivo2:\n",
    "    arquivo2.write('Olá, meu nome é sivaldo!\\n')\n",
    "    arquivo2.write('Olá novamente, meu nome é sivaldo!')\n",
    "\n",
    "print('fim do codigo')"
   ]
  },
  {
   "cell_type": "code",
   "execution_count": null,
   "metadata": {},
   "outputs": [],
   "source": []
  },
  {
   "cell_type": "code",
   "execution_count": 36,
   "metadata": {},
   "outputs": [],
   "source": [
    "#Adicione o código para criar o arquivo .gitattributes:\n",
    "with open('.gitattributes', 'w') as file:\n",
    "    file.write('*.ipynb text eol=lf\\n')\n"
   ]
  },
  {
   "cell_type": "code",
   "execution_count": 37,
   "metadata": {},
   "outputs": [
    {
     "name": "stdout",
     "output_type": "stream",
     "text": [
      "['.git', '.gitattributes', '.ipynb_checkpoints', '.venv', 'Alunos.txt', 'Python Integraçõestxtcsv01.ipynb', 'README.md', 'Resumo.txt']\n"
     ]
    }
   ],
   "source": [
    "#Verifique se o arquivo foi criado: Você pode usar o código \n",
    "#abaixo para listar os arquivos no diretório e verificar \n",
    "#se o arquivo .gitattributes foi criado:\n",
    "import os\n",
    "print(os.listdir('.'))\n"
   ]
  },
  {
   "cell_type": "code",
   "execution_count": 10,
   "metadata": {},
   "outputs": [
    {
     "name": "stdout",
     "output_type": "stream",
     "text": [
      "Quantidade Anúncio: 274\n",
      "Quantidade Orgânico: 226\n",
      "Quantidade Youtube: 155\n",
      "Quantidade Instagram: 24\n",
      "Quantidade site: 73\n"
     ]
    }
   ],
   "source": [
    "arquivo = open('Alunos.txt', 'r')\n",
    "linhas = arquivo.readlines()\n",
    "\n",
    "#deletar itens desnecessarios\n",
    "del linhas[:4]\n",
    "# print(linhas)\n",
    "\n",
    "#criar indicadores\n",
    "qtde_anuncio = 0\n",
    "qtde_org = 0\n",
    "qtde_yt_org = 0\n",
    "qtde_igfb_org = 0\n",
    "qtde_site_org = 0\n",
    "\n",
    "\n",
    "#separar as infos que quero\n",
    "for linha in linhas:\n",
    "    email, origem = linha.split(',')\n",
    "    if '_org' in origem:\n",
    "        qtde_org += 1\n",
    "        if 'hashtag_yt_org' in origem:\n",
    "            qtde_yt_org += 1\n",
    "        if 'hashtag_site_org' in origem:\n",
    "            qtde_site_org += 1\n",
    "        if 'hashtag_ig_org' in origem or 'hashtag_igfb_org' in origem:\n",
    "            qtde_igfb_org += 1        \n",
    "    else:\n",
    "        qtde_anuncio += 1\n",
    "\n",
    "\n",
    "#fechar arquivo\n",
    "arquivo.close()\n",
    "\n",
    "print('Quantidade Anúncio: {}'.format(qtde_anuncio))\n",
    "print('Quantidade Orgânico: {}'.format(qtde_org))\n",
    "print('Quantidade Youtube: {}'.format(qtde_yt_org))\n",
    "print('Quantidade Instagram: {}'.format(qtde_igfb_org))\n",
    "print('Quantidade site: {}'.format(qtde_site_org))\n"
   ]
  },
  {
   "cell_type": "code",
   "execution_count": null,
   "metadata": {},
   "outputs": [],
   "source": []
  }
 ],
 "metadata": {
  "kernelspec": {
   "display_name": "Python 3 (ipykernel)",
   "language": "python",
   "name": "python3"
  },
  "language_info": {
   "codemirror_mode": {
    "name": "ipython",
    "version": 3
   },
   "file_extension": ".py",
   "mimetype": "text/x-python",
   "name": "python",
   "nbconvert_exporter": "python",
   "pygments_lexer": "ipython3",
   "version": "3.12.1"
  }
 },
 "nbformat": 4,
 "nbformat_minor": 4
}
