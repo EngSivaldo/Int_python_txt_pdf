{
 "cells": [
  {
   "cell_type": "markdown",
   "metadata": {},
   "source": [
    "# Vamos aprender a trabalhar com PDF usando o Python\n",
    "\n",
    "- Regra geral: PDF foi feito justamente para bloquear muita coisa, então não é fácil \"brincar\" com um pdf\n",
    "- Mesmo assim, Python tem várias bibliotecas que vão nos ajudar, vamos focar em 2:\n",
    "    - PyPDF2\n",
    "    - Tabula\n",
    "- Ler e extrair informações de um PDF a gente consegue fazer.\n",
    "- Escrever e Editar, aí já é outra história\n",
    "\n",
    "### Para os nossos exemplos, vamos avaliar o Release de Resultados do 3º e 4º Trimestre de 2020 da Magazine Luiza"
   ]
  },
  {
   "cell_type": "markdown",
   "metadata": {},
   "source": [
    "#### 1º Objetivo: Queremos conseguir separar apenas o DRE do Release de Resultados (Página 14) para enviar para a Diretoria, como fazemos?\n",
    "    - Separar as páginas de um pdf"
   ]
  },
  {
   "cell_type": "code",
<<<<<<< HEAD
   "execution_count": 8,
=======
   "execution_count": 6,
>>>>>>> 4be2993713b244279611634f2caf42ee129978be
   "metadata": {},
   "outputs": [
    {
     "name": "stdout",
     "output_type": "stream",
     "text": [
<<<<<<< HEAD
      "<PyPDF2._reader.PdfReader object at 0x0000027531038290>\n",
      "24\n",
      "Arquivo existente \"pagina\\Arquivo Pagina 1.pdf\" deletado.\n",
      "Novo arquivo \"pagina\\Arquivo Pagina 1.pdf\" criado.\n",
      "Arquivo existente \"pagina\\Arquivo Pagina 2.pdf\" deletado.\n",
      "Novo arquivo \"pagina\\Arquivo Pagina 2.pdf\" criado.\n",
      "Arquivo existente \"pagina\\Arquivo Pagina 3.pdf\" deletado.\n",
      "Novo arquivo \"pagina\\Arquivo Pagina 3.pdf\" criado.\n",
      "Arquivo existente \"pagina\\Arquivo Pagina 4.pdf\" deletado.\n",
      "Novo arquivo \"pagina\\Arquivo Pagina 4.pdf\" criado.\n",
      "Arquivo existente \"pagina\\Arquivo Pagina 5.pdf\" deletado.\n",
      "Novo arquivo \"pagina\\Arquivo Pagina 5.pdf\" criado.\n",
      "Arquivo existente \"pagina\\Arquivo Pagina 6.pdf\" deletado.\n",
      "Novo arquivo \"pagina\\Arquivo Pagina 6.pdf\" criado.\n",
      "Arquivo existente \"pagina\\Arquivo Pagina 7.pdf\" deletado.\n",
      "Novo arquivo \"pagina\\Arquivo Pagina 7.pdf\" criado.\n",
      "Arquivo existente \"pagina\\Arquivo Pagina 8.pdf\" deletado.\n",
      "Novo arquivo \"pagina\\Arquivo Pagina 8.pdf\" criado.\n",
      "Arquivo existente \"pagina\\Arquivo Pagina 9.pdf\" deletado.\n",
      "Novo arquivo \"pagina\\Arquivo Pagina 9.pdf\" criado.\n",
      "Arquivo existente \"pagina\\Arquivo Pagina 10.pdf\" deletado.\n",
      "Novo arquivo \"pagina\\Arquivo Pagina 10.pdf\" criado.\n",
      "Arquivo existente \"pagina\\Arquivo Pagina 11.pdf\" deletado.\n",
      "Novo arquivo \"pagina\\Arquivo Pagina 11.pdf\" criado.\n",
      "Arquivo existente \"pagina\\Arquivo Pagina 12.pdf\" deletado.\n",
      "Novo arquivo \"pagina\\Arquivo Pagina 12.pdf\" criado.\n",
      "Arquivo existente \"pagina\\Arquivo Pagina 13.pdf\" deletado.\n",
      "Novo arquivo \"pagina\\Arquivo Pagina 13.pdf\" criado.\n",
      "Arquivo existente \"pagina\\Arquivo Pagina 14.pdf\" deletado.\n",
      "Novo arquivo \"pagina\\Arquivo Pagina 14.pdf\" criado.\n",
      "Arquivo existente \"pagina\\Arquivo Pagina 15.pdf\" deletado.\n",
      "Novo arquivo \"pagina\\Arquivo Pagina 15.pdf\" criado.\n",
      "Arquivo existente \"pagina\\Arquivo Pagina 16.pdf\" deletado.\n",
      "Novo arquivo \"pagina\\Arquivo Pagina 16.pdf\" criado.\n",
      "Arquivo existente \"pagina\\Arquivo Pagina 17.pdf\" deletado.\n",
      "Novo arquivo \"pagina\\Arquivo Pagina 17.pdf\" criado.\n",
      "Arquivo existente \"pagina\\Arquivo Pagina 18.pdf\" deletado.\n",
      "Novo arquivo \"pagina\\Arquivo Pagina 18.pdf\" criado.\n",
      "Arquivo existente \"pagina\\Arquivo Pagina 19.pdf\" deletado.\n",
      "Novo arquivo \"pagina\\Arquivo Pagina 19.pdf\" criado.\n",
      "Arquivo existente \"pagina\\Arquivo Pagina 20.pdf\" deletado.\n",
      "Novo arquivo \"pagina\\Arquivo Pagina 20.pdf\" criado.\n",
      "Arquivo existente \"pagina\\Arquivo Pagina 21.pdf\" deletado.\n",
      "Novo arquivo \"pagina\\Arquivo Pagina 21.pdf\" criado.\n",
      "Arquivo existente \"pagina\\Arquivo Pagina 22.pdf\" deletado.\n",
      "Novo arquivo \"pagina\\Arquivo Pagina 22.pdf\" criado.\n",
      "Arquivo existente \"pagina\\Arquivo Pagina 23.pdf\" deletado.\n",
      "Novo arquivo \"pagina\\Arquivo Pagina 23.pdf\" criado.\n",
      "Arquivo existente \"pagina\\Arquivo Pagina 24.pdf\" deletado.\n",
      "Novo arquivo \"pagina\\Arquivo Pagina 24.pdf\" criado.\n"
=======
      "<PyPDF2._reader.PdfReader object at 0x000002752F01A540>\n",
      "24\n"
>>>>>>> 4be2993713b244279611634f2caf42ee129978be
     ]
    }
   ],
   "source": [
    "import PyPDF2 as pyf\n",
    "import os\n",
    "from pathlib import Path\n",
    "\n",
    "# Nome do arquivo PDF\n",
    "nome = 'MGLU_ER_3T20_POR.pdf'\n",
    "# Leitura do arquivo PDF\n",
    "arquivo_pdf = pyf.PdfReader(nome)\n",
    "print(arquivo_pdf)\n",
    "\n",
    "# Imprime a quantidade de páginas no PDF\n",
    "print(len(arquivo_pdf.pages))\n",
    "\n",
<<<<<<< HEAD
    "# Diretório onde os novos PDFs serão salvos\n",
    "diretorio = 'pagina'\n",
    "Path(diretorio).mkdir(exist_ok=True)  # Cria o diretório se ele não existir\n",
    "\n",
=======
>>>>>>> 4be2993713b244279611634f2caf42ee129978be
    "# Loop através de cada página no PDF\n",
    "for i, pagina in enumerate(arquivo_pdf.pages):\n",
    "    num_pagina = i + 1\n",
    "    novo_pdf = pyf.PdfWriter()\n",
    "    # Adiciona a página atual ao novo PDF\n",
    "    novo_pdf.add_page(pagina)\n",
<<<<<<< HEAD
    "    # Nome do arquivo PDF da página\n",
    "    nome_arquivo = Path(diretorio) / f'Arquivo Pagina {num_pagina}.pdf'\n",
    "    \n",
    "    # Verifica se o arquivo já existe e o deleta se necessário\n",
    "    if nome_arquivo.exists():\n",
    "        os.remove(nome_arquivo)\n",
    "        print(f'Arquivo existente \"{nome_arquivo}\" deletado.')\n",
    "    else:\n",
    "        print(f'Arquivo \"{nome_arquivo}\" não existia.')\n",
    "\n",
    "    # Salva o novo PDF com o nome contendo o número da página\n",
    "    with nome_arquivo.open(mode='wb') as arquivo:\n",
    "        novo_pdf.write(arquivo)\n",
    "    print(f'Novo arquivo \"{nome_arquivo}\" criado.')\n",
=======
    "    # Salva o novo PDF com o nome contendo o número da página\n",
    "    with Path(f'pagina/Arquivo Pagina {num_pagina}.pdf').open(mode='wb') as arquivo:\n",
    "        novo_pdf.write(arquivo)\n",
>>>>>>> 4be2993713b244279611634f2caf42ee129978be
    "\n"
   ]
  },
  {
   "cell_type": "markdown",
   "metadata": {},
   "source": [
    "#### 2º Objetivo: Com o Release de Resultados já separado página por página, queremos incluir apenas as Páginas de Destaque (Página 1), DRE (Página 14) e Balanço (Página 16).\n",
    "    - Juntar vários pdfs em 1"
   ]
  },
  {
   "cell_type": "code",
   "execution_count": null,
   "metadata": {},
   "outputs": [],
   "source": []
  },
  {
   "cell_type": "markdown",
   "metadata": {},
   "source": [
    "### Extra: Para adicionar todas as páginas de 2 pdfs"
   ]
  },
  {
   "cell_type": "code",
   "execution_count": null,
   "metadata": {},
   "outputs": [],
   "source": []
  },
  {
   "cell_type": "markdown",
   "metadata": {},
   "source": [
    "# Funcionalidades que podem ser úteis:\n",
    "\n",
    "- Inserir arquivo no meio do outro\n",
    "- Quero colocar dentro do Resultado do 4T20 os destaques do 3T20 para poder comparar os 2 dentro do mesmo relatório"
   ]
  },
  {
   "cell_type": "code",
   "execution_count": null,
   "metadata": {},
   "outputs": [],
   "source": []
  },
  {
   "cell_type": "markdown",
   "metadata": {},
   "source": [
    "- Rodar Página"
   ]
  },
  {
   "cell_type": "code",
   "execution_count": null,
   "metadata": {},
   "outputs": [],
   "source": []
  },
  {
   "cell_type": "markdown",
   "metadata": {},
   "source": [
    "# Trabalhando com Textos e Informações Dentro do PDF\n",
    "\n",
    "#### 1º Objetivo: Quero identificar como foram as Despesas com Vendas da MGLU\n",
    "    - Pegar texto da página e identificar onde está essa informação"
   ]
  },
  {
   "cell_type": "code",
   "execution_count": null,
   "metadata": {},
   "outputs": [],
   "source": []
  },
  {
   "cell_type": "markdown",
   "metadata": {},
   "source": [
    "#### 2º Objetivo: Quero analisar o DRE (sem ajuste - Página 5)\n",
    "    - Para ler tabelas em pdf, use o tabula (é ninja)\n",
    "    \n",
    "    - Cuidado 1: Instale o tabula-py (não instale o tabula). Se instalar o tabula errado, desinstale ele, instale o tabula-py, desinstale o tabula-py e instale novamente o tabula-py. Reinicie o kernel do Jupyter após isso\n",
    "    \n",
    "    - Cuidado 2: Tem que ter o java instalado no seu computador (depois de instalar, reinicie o computador)"
   ]
  },
  {
   "cell_type": "code",
   "execution_count": null,
   "metadata": {},
   "outputs": [],
   "source": []
  },
  {
   "cell_type": "markdown",
   "metadata": {},
   "source": [
    "#### 3º Objetivo: Quero analisar o Capital de Giro e os Investimentos (ambas as tabelas na página 12)\n",
    "    - Páginas com mais de 1 tabela"
   ]
  },
  {
   "cell_type": "code",
   "execution_count": null,
   "metadata": {},
   "outputs": [],
   "source": []
  },
  {
   "cell_type": "markdown",
   "metadata": {},
   "source": [
    "#### O que fazer quando o tabula não consegue ler alguma linha da tabela? Como o cabeçalho, no nosso caso?"
   ]
  },
  {
   "cell_type": "code",
   "execution_count": null,
   "metadata": {},
   "outputs": [],
   "source": []
  },
  {
   "cell_type": "markdown",
   "metadata": {},
   "source": [
    "# Outro método que pode ser útil algum dia: Captar Imagem em um pdf\n",
    "    - biblioteca pikepdf"
   ]
  },
  {
   "cell_type": "code",
   "execution_count": null,
   "metadata": {},
   "outputs": [],
   "source": []
  },
  {
   "cell_type": "markdown",
   "metadata": {},
   "source": [
    "# Substituir texto no pdf tipo contrato\n",
    "\n",
    "- Não recomendo fazer diretamente pelo Python. Realmente do que vi a melhor opção me parece o Word fazer isso\n",
    "- Caso precise automatizar, automatize o processo fazendo ele pelo Word\n",
    "- Quem quiser MUITO fazer isso pelo Python, tem um link aqui que vai te ajudar de uma solução que achei que funciona. Tem seus bugs/cuidados especiais, mas funciona: https://pdf.co/samples/pdf-co-web-api-replace-text-from-pdf-python-replace-text-from-url"
   ]
  }
 ],
 "metadata": {
  "kernelspec": {
   "display_name": "Python 3 (ipykernel)",
   "language": "python",
   "name": "python3"
  },
  "language_info": {
   "codemirror_mode": {
    "name": "ipython",
    "version": 3
   },
   "file_extension": ".py",
   "mimetype": "text/x-python",
   "name": "python",
   "nbconvert_exporter": "python",
   "pygments_lexer": "ipython3",
   "version": "3.12.1"
  }
 },
 "nbformat": 4,
 "nbformat_minor": 4
}
